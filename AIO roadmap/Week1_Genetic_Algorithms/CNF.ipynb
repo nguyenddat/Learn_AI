{
 "cells": [
  {
   "cell_type": "code",
   "execution_count": 6,
   "id": "920801a3",
   "metadata": {},
   "outputs": [],
   "source": [
    "import random"
   ]
  },
  {
   "cell_type": "markdown",
   "id": "d24f1150",
   "metadata": {},
   "source": [
    "Bài toán thỏa mãn chuẩn hội tụ (Confunctive Normal Form)\n",
    "\n",
    "Cho bài toán với 5 biến x1, x2, x3, x4, x5 với yêu cầu: Gán giá trị T/F cho 5 biến mệnh đề trên sao cho giá trị F là True:\n",
    "\n",
    "    F = (x1 or x2) and (x3 or x4) and x5\n"
   ]
  },
  {
   "cell_type": "code",
   "execution_count": 7,
   "id": "c1d15aa9",
   "metadata": {},
   "outputs": [],
   "source": [
    "F = [\n",
    "    [1, 2],\n",
    "    [3, 4],\n",
    "    5\n",
    "]\n",
    "\n",
    "num_vars = 5"
   ]
  },
  {
   "cell_type": "markdown",
   "id": "324c98ec",
   "metadata": {},
   "source": [
    "1. Khởi tạo quần thể và phương pháp biểu diễn\n",
    "\n",
    "1.1. Khởi tạo quần thể:\n",
    "- Chọn số lượng cá thể ban đầu\n",
    "- Chọn random cá thể từ các ứng viên\n",
    "- Các ứng viên là chuỗi nhị phân có độ dài là 5\n",
    "\n",
    "1.2. Phương pháp biểu diễn\n",
    "- Boolean -> Integer\n",
    "- True = 1, False = 0"
   ]
  },
  {
   "cell_type": "code",
   "execution_count": 8,
   "id": "dd69e78c",
   "metadata": {},
   "outputs": [
    {
     "data": {
      "text/plain": [
       "[[0, 0, 1, 0, 0],\n",
       " [0, 1, 0, 1, 1],\n",
       " [1, 0, 1, 1, 1],\n",
       " [1, 1, 0, 0, 1],\n",
       " [1, 1, 1, 1, 1],\n",
       " [0, 0, 0, 1, 1],\n",
       " [0, 0, 1, 1, 0],\n",
       " [0, 0, 1, 0, 1],\n",
       " [1, 1, 0, 1, 1],\n",
       " [1, 0, 0, 0, 0],\n",
       " [0, 0, 0, 0, 1],\n",
       " [1, 1, 1, 0, 0],\n",
       " [1, 0, 1, 0, 1],\n",
       " [0, 0, 1, 1, 1],\n",
       " [1, 0, 1, 0, 0]]"
      ]
     },
     "execution_count": 8,
     "metadata": {},
     "output_type": "execute_result"
    }
   ],
   "source": [
    "def init_individual(num_vars):\n",
    "    return [random.choice([0, 1]) for _ in range(num_vars)]\n",
    "\n",
    "def init_population(num_vars):\n",
    "    num_individuals = 19\n",
    "    population = [init_individual(num_vars)]\n",
    "\n",
    "    for i in range(num_individuals):\n",
    "        new_individual = init_individual(num_vars)\n",
    "        if new_individual not in population:\n",
    "            population.append(new_individual)\n",
    "    \n",
    "    return population\n",
    "\n",
    "population = init_population(num_vars)\n",
    "population    "
   ]
  },
  {
   "cell_type": "markdown",
   "id": "57fded66",
   "metadata": {},
   "source": [
    "2. Định nghĩa hàm fitness và tính fitness point của từng cá thể trong quần thể\n",
    "\n",
    "2.1. Định nghĩa hàm fitness\n",
    "- Hàm fitness trong bài toán này được định nghĩa là số mệnh đề đúng trong mệnh đề F\n",
    "- Để mệnh đề F đúng thì toàn bộ mệnh đề cần True\n",
    "- Một mệnh đề đúng khi tồn tại một biến mệnh đề True (phép or)\n",
    "\n",
    "2.2. Tính fitness point của từng cá thể"
   ]
  },
  {
   "cell_type": "code",
   "execution_count": 9,
   "id": "45407e76",
   "metadata": {},
   "outputs": [
    {
     "name": "stdout",
     "output_type": "stream",
     "text": [
      "[0, 0, 1, 0, 0]\n",
      "\t --> (0 or 0) and (1 or 0) and 0--> 0.33\n",
      "[0, 1, 0, 1, 1]\n",
      "\t --> (0 or 1) and (0 or 1) and 1--> 1.00\n",
      "[1, 0, 1, 1, 1]\n",
      "\t --> (1 or 0) and (1 or 1) and 1--> 1.00\n",
      "[1, 1, 0, 0, 1]\n",
      "\t --> (1 or 1) and (0 or 0) and 1--> 0.67\n",
      "[1, 1, 1, 1, 1]\n",
      "\t --> (1 or 1) and (1 or 1) and 1--> 1.00\n",
      "[0, 0, 0, 1, 1]\n",
      "\t --> (0 or 0) and (0 or 1) and 1--> 0.67\n",
      "[0, 0, 1, 1, 0]\n",
      "\t --> (0 or 0) and (1 or 1) and 0--> 0.33\n",
      "[0, 0, 1, 0, 1]\n",
      "\t --> (0 or 0) and (1 or 0) and 1--> 0.67\n",
      "[1, 1, 0, 1, 1]\n",
      "\t --> (1 or 1) and (0 or 1) and 1--> 1.00\n",
      "[1, 0, 0, 0, 0]\n",
      "\t --> (1 or 0) and (0 or 0) and 0--> 0.33\n",
      "[0, 0, 0, 0, 1]\n",
      "\t --> (0 or 0) and (0 or 0) and 1--> 0.33\n",
      "[1, 1, 1, 0, 0]\n",
      "\t --> (1 or 1) and (1 or 0) and 0--> 0.67\n",
      "[1, 0, 1, 0, 1]\n",
      "\t --> (1 or 0) and (1 or 0) and 1--> 1.00\n",
      "[0, 0, 1, 1, 1]\n",
      "\t --> (0 or 0) and (1 or 1) and 1--> 0.67\n",
      "[1, 0, 1, 0, 0]\n",
      "\t --> (1 or 0) and (1 or 0) and 0--> 0.67\n"
     ]
    }
   ],
   "source": [
    "def fitness_function(individual, F):\n",
    "    count_true_clause = 0\n",
    "    for clause in F:\n",
    "        if isinstance(clause, list):\n",
    "            for ind in clause:\n",
    "                ind_idx = ind - 1\n",
    "                if individual[ind_idx] == 1:\n",
    "                    count_true_clause += 1\n",
    "                    break\n",
    "            \n",
    "        elif isinstance(clause, int):\n",
    "            if individual[clause - 1] == 1:\n",
    "                count_true_clause += 1\n",
    "    \n",
    "    return count_true_clause / len(F)\n",
    "\n",
    "for ind in population:\n",
    "    print(f\"{ind}\\n\\t --> ({ind[0]} or {ind[1]}) and ({ind[2]} or {ind[3]}) and {ind[4]}--> {fitness_function(ind, F):.2f}\")"
   ]
  },
  {
   "cell_type": "markdown",
   "id": "0ba0d87e",
   "metadata": {},
   "source": [
    "3. Selection và Cross-over\n",
    "\n",
    "3.1. Selection\n",
    "\n",
    "3.1.1. Tournament Selection\n",
    "- Lấy random n cá thể ==> Lấy 2 cá thể tốt nhất\n",
    "\n",
    "3.1.2. Roulette Wheel Selection\n",
    "- Xác suất chọn cá thể theo fitness của nó ==> xác suất chọn được cá thể yếu\n",
    "\n",
    "3.1.3. Rank selection ==> Rank cá thể theo fitness\n",
    "- Chọn xác suất theo rank ==> Tránh cá thể mạnh vượt trội\n",
    "\n",
    "\n",
    "4.1. Cross-over"
   ]
  },
  {
   "cell_type": "code",
   "execution_count": 5,
   "id": "1719423e",
   "metadata": {},
   "outputs": [
    {
     "name": "stdout",
     "output_type": "stream",
     "text": [
      "[[0, 0, 1, 1, 1], [1, 1, 1, 0, 0]]\n"
     ]
    }
   ],
   "source": [
    "def tournament_selection(population, fitness):\n",
    "    random_inds_n_fitness = random.sample(list(zip(population, fitness)), k=3)\n",
    "    random_inds_n_fitness = sorted(random_inds_n_fitness, key=lambda x: x[1], reverse=True)\n",
    "\n",
    "    return [ind_n_fitness[0] for ind_n_fitness in random_inds_n_fitness[:2]]\n",
    "\n",
    "fitness = [\n",
    "    fitness_function(ind, F) for ind in population\n",
    "]\n",
    "\n",
    "print(tournament_selection(population,fitness))\n"
   ]
  },
  {
   "cell_type": "code",
   "execution_count": 11,
   "id": "b150c908",
   "metadata": {},
   "outputs": [
    {
     "data": {
      "text/plain": [
       "([1, 0, 1, 0, 0], [1, 0, 0, 0, 0])"
      ]
     },
     "execution_count": 11,
     "metadata": {},
     "output_type": "execute_result"
    }
   ],
   "source": [
    "def cross_over(ind1, ind2):\n",
    "    split_idx = len(ind1) // 2\n",
    "\n",
    "    ind1_1, ind1_2 = ind1[:split_idx], ind1[split_idx:]\n",
    "    ind2_1, ind2_2 = ind2[:split_idx], ind2[split_idx:]\n",
    "\n",
    "    return ind1_1 + ind2_2, ind2_1 + ind1_2\n",
    "\n",
    "tournament_selected = tournament_selection(population, fitness)\n",
    "cross_over(tournament_selected[0], tournament_selected[1])"
   ]
  },
  {
   "cell_type": "code",
   "execution_count": null,
   "id": "a095d1a5",
   "metadata": {},
   "outputs": [],
   "source": [
    "def init_individual(num_vars):\n",
    "    return [\n",
    "        random.choice([0, 1]) for _ in range(num_vars)\n",
    "    ]\n",
    "\n",
    "def init_population(num_inds, num_vars):\n",
    "    population = []\n",
    "    for i in range(num_inds):\n",
    "        ind = init_individual(num_vars)\n",
    "        if ind not in population:\n",
    "            population.append(ind)\n",
    "    \n",
    "    return population\n",
    "\n",
    "def fitness_function(F, ind):\n",
    "    count_true_clause = 0\n",
    "    for clause in F:\n",
    "        if isinstance(clause, int):\n",
    "            if ind[clause - 1] == 1:\n",
    "                count_true_clause += 1\n",
    "        \n",
    "        else:\n",
    "            for id in clause:\n",
    "                if ind[id - 1] == 1:\n",
    "                    count_true_clause += 1\n",
    "                    break\n",
    "    \n",
    "    return count_true_clause / len(F)\n",
    "\n",
    "def tournament_selection(population, fitness):\n",
    "    random_population_n_fitness = random.choices(list(zip(population, fitness)), k = 3)\n",
    "    random_population_n_fitness = sorted(random_population_n_fitness, key = lambda x: x[1], reverse = True)\n",
    "\n",
    "    return random_population_n_fitness[0], random_population_n_fitness[1]\n",
    "\n",
    "def cross_over(ind1, ind2):\n",
    "    split_idx = len(ind1) // 2\n",
    "\n",
    "    ind1_1, ind1_2 = ind1[:split_idx], ind1[split_idx:]\n",
    "    ind2_1, ind2_2 = ind2[:split_idx], ind2[split_idx:]\n",
    "\n",
    "    return ind1_1 + ind2_2, ind2_1 + ind1_2\n",
    "\n",
    "def mutation(ind, rate):\n",
    "    pass\n",
    "\n",
    "def new_population(num_inds, population, fitness):\n",
    "    new_popula = []\n",
    "    while len(new_popula) <= num_inds:\n",
    "        dad_ind, mom_ind = tournament_selection(population, fitness)\n",
    "        new_popula += list(cross_over(dad_ind, mom_ind))\n",
    "    \n",
    "    return new_popula\n",
    "\n",
    "def genetic_algo_CNF(F, num_vars, num_inds, epochs):\n",
    "    # Initialize population\n",
    "    population = init_population(num_inds, num_vars)\n",
    "\n",
    "    for epoch in range(epochs):\n",
    "        # Fitness Function\n",
    "        fitness_points = [fitness_function(F, ind) for ind in population]\n",
    "        best_fitness = max(fitness_points)\n",
    "        print(f\"Epoch {epoch+1}/{epochs} - Best Fitness: {best_fitness:.4f}\")\n",
    "\n",
    "        if best_fitness == 1.0:\n",
    "            break\n",
    "\n",
    "        population = new_population(num_inds, population, fitness_points)\n",
    "    \n",
    "    best_idx = fitness_points.index(max(fitness_points))\n",
    "    return population[best_idx], max(fitness_points)\n"
   ]
  },
  {
   "cell_type": "code",
   "execution_count": 21,
   "id": "c1c3da8a",
   "metadata": {},
   "outputs": [
    {
     "name": "stdout",
     "output_type": "stream",
     "text": [
      "Epoch 1/10 - Best Fitness: 1.0000\n"
     ]
    },
    {
     "data": {
      "text/plain": [
       "([1, 1, 1, 1, 0], 1.0)"
      ]
     },
     "execution_count": 21,
     "metadata": {},
     "output_type": "execute_result"
    }
   ],
   "source": [
    "F1 = [\n",
    "    [1, 2, 5],\n",
    "    [2, 3],\n",
    "    [1, 4],\n",
    "    [3, 5],\n",
    "    [2, 4, 5],\n",
    "    [1, 3, 4],\n",
    "    [2, 5],\n",
    "    [1, 2, 3, 5],\n",
    "    [3, 4],\n",
    "    [1, 5],\n",
    "    2,\n",
    "    [2, 3, 5],\n",
    "    [1, 3, 5],\n",
    "    [2, 4],\n",
    "    [1, 2, 4],\n",
    "    [3, 4, 5],\n",
    "    [1, 2, 5],\n",
    "    [2, 3, 4],\n",
    "    [1, 4, 5],\n",
    "    [2, 5]\n",
    "]\n",
    "\n",
    "num_vars = 5\n",
    "\n",
    "genetic_algo_CNF(\n",
    "    F = F1,\n",
    "    num_vars = num_vars,\n",
    "    num_inds = 5,\n",
    "    epochs = 10\n",
    ")"
   ]
  },
  {
   "cell_type": "code",
   "execution_count": 25,
   "id": "4093ce53",
   "metadata": {},
   "outputs": [
    {
     "name": "stdout",
     "output_type": "stream",
     "text": [
      "Epoch 1/10 - Best Fitness: 1.0000\n"
     ]
    },
    {
     "data": {
      "text/plain": [
       "([1, 1, 1, 1, 0, 0, 1, 0, 1, 1, 1, 1, 0, 1, 0], 1.0)"
      ]
     },
     "execution_count": 25,
     "metadata": {},
     "output_type": "execute_result"
    }
   ],
   "source": [
    "F2 = [\n",
    "    [1, 2, 3],\n",
    "    [4, 5, 6],\n",
    "    [7, 8],\n",
    "    [9, 10, 11],\n",
    "    [12, 13, 14],\n",
    "    [1, 6],\n",
    "    [2, 5, 8, 11],\n",
    "    [7, 12],\n",
    "    [4, 13, 14],\n",
    "    [3, 5, 6, 9],\n",
    "    [8, 10, 12],\n",
    "    [1, 2, 5],\n",
    "    [3, 7, 10, 15],\n",
    "    [4, 6, 11],\n",
    "    [1, 3, 6, 13],\n",
    "    [2, 4, 7, 9],\n",
    "    [5, 12, 14],\n",
    "    [3, 8, 13],\n",
    "    [4, 9, 10],\n",
    "    [1, 2, 6],\n",
    "    [5, 8, 11],\n",
    "    [3, 7],\n",
    "    [9, 14],\n",
    "    [2, 5, 15],\n",
    "    [1, 10, 12]\n",
    "]\n",
    "\n",
    "num_vars = 15\n",
    "\n",
    "genetic_algo_CNF(\n",
    "    F = F2,\n",
    "    num_vars = num_vars,\n",
    "    num_inds = 3,\n",
    "    epochs = 10\n",
    ")"
   ]
  }
 ],
 "metadata": {
  "kernelspec": {
   "display_name": "ai",
   "language": "python",
   "name": "python3"
  },
  "language_info": {
   "codemirror_mode": {
    "name": "ipython",
    "version": 3
   },
   "file_extension": ".py",
   "mimetype": "text/x-python",
   "name": "python",
   "nbconvert_exporter": "python",
   "pygments_lexer": "ipython3",
   "version": "3.12.6"
  }
 },
 "nbformat": 4,
 "nbformat_minor": 5
}
